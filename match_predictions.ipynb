{
 "cells": [
  {
   "cell_type": "markdown",
   "id": "71e20ade",
   "metadata": {},
   "source": [
    "# Soccer Match Outcome Predictor\n",
    "\n",
    "The following code will build a soccer match outcome prediction model using nural networks with team embeddings and match history embeddings."
   ]
  },
  {
   "cell_type": "markdown",
   "id": "bd413ec2",
   "metadata": {},
   "source": [
    "Installing Necessary Packages"
   ]
  },
  {
   "cell_type": "code",
   "execution_count": 2,
   "id": "28301337",
   "metadata": {},
   "outputs": [],
   "source": [
    "import tensorflow as tf\n",
    "from tensorflow.keras.layers import Embedding, Input, Dense, Concatenate, Dropout, Flatten, LSTM\n",
    "from tensorflow.keras.models import Model\n",
    "from tensorflow.keras.utils import to_categorical\n",
    "from tensorflow.keras.optimizers import Adam\n",
    "import numpy as np\n",
    "import pandas as pd\n",
    "from sklearn.preprocessing import StandardScaler, LabelEncoder\n",
    "from sklearn.model_selection import train_test_split\n",
    "from sklearn.metrics import accuracy_score, confusion_matrix, classification_report\n",
    "import seaborn as sns\n",
    "import matplotlib.pyplot as plt\n",
    "from keras import layers, models, optimizers, callbacks\n",
    "import keras_tuner as kt"
   ]
  },
  {
   "cell_type": "markdown",
   "id": "e3226dbc",
   "metadata": {},
   "source": [
    "## Preprocessing the Dataset"
   ]
  },
  {
   "cell_type": "markdown",
   "id": "abaa53d3",
   "metadata": {},
   "source": [
    "Loading the Dataset"
   ]
  },
  {
   "cell_type": "code",
   "execution_count": 3,
   "id": "300ac574",
   "metadata": {},
   "outputs": [
    {
     "data": {
      "text/html": [
       "<div>\n",
       "<style scoped>\n",
       "    .dataframe tbody tr th:only-of-type {\n",
       "        vertical-align: middle;\n",
       "    }\n",
       "\n",
       "    .dataframe tbody tr th {\n",
       "        vertical-align: top;\n",
       "    }\n",
       "\n",
       "    .dataframe thead th {\n",
       "        text-align: right;\n",
       "    }\n",
       "</style>\n",
       "<table border=\"1\" class=\"dataframe\">\n",
       "  <thead>\n",
       "    <tr style=\"text-align: right;\">\n",
       "      <th></th>\n",
       "      <th>match_id</th>\n",
       "      <th>home_team</th>\n",
       "      <th>away_team</th>\n",
       "      <th>home_goals</th>\n",
       "      <th>away_goals</th>\n",
       "      <th>match_outcome</th>\n",
       "      <th>Home_Ball_Possession</th>\n",
       "      <th>Home_Pass_Accuracy</th>\n",
       "      <th>Home_Total_Shots</th>\n",
       "      <th>Home_Expected_Goals</th>\n",
       "      <th>Away_Ball_Possession</th>\n",
       "      <th>Away_Pass_Accuracy</th>\n",
       "      <th>Away_Total_Shots</th>\n",
       "      <th>Away_Expected_Goals</th>\n",
       "    </tr>\n",
       "  </thead>\n",
       "  <tbody>\n",
       "    <tr>\n",
       "      <th>0</th>\n",
       "      <td>1035037</td>\n",
       "      <td>Burnley</td>\n",
       "      <td>Manchester City</td>\n",
       "      <td>0</td>\n",
       "      <td>3</td>\n",
       "      <td>Loss</td>\n",
       "      <td>34%</td>\n",
       "      <td>79%</td>\n",
       "      <td>6</td>\n",
       "      <td>0.33</td>\n",
       "      <td>66%</td>\n",
       "      <td>90%</td>\n",
       "      <td>17</td>\n",
       "      <td>2.08</td>\n",
       "    </tr>\n",
       "    <tr>\n",
       "      <th>1</th>\n",
       "      <td>1035038</td>\n",
       "      <td>Arsenal</td>\n",
       "      <td>Nottingham Forest</td>\n",
       "      <td>2</td>\n",
       "      <td>1</td>\n",
       "      <td>Win</td>\n",
       "      <td>78%</td>\n",
       "      <td>90%</td>\n",
       "      <td>15</td>\n",
       "      <td>0.83</td>\n",
       "      <td>22%</td>\n",
       "      <td>69%</td>\n",
       "      <td>6</td>\n",
       "      <td>1.18</td>\n",
       "    </tr>\n",
       "    <tr>\n",
       "      <th>2</th>\n",
       "      <td>1035039</td>\n",
       "      <td>Bournemouth</td>\n",
       "      <td>West Ham</td>\n",
       "      <td>1</td>\n",
       "      <td>1</td>\n",
       "      <td>Draw</td>\n",
       "      <td>63%</td>\n",
       "      <td>82%</td>\n",
       "      <td>14</td>\n",
       "      <td>1.37</td>\n",
       "      <td>37%</td>\n",
       "      <td>68%</td>\n",
       "      <td>16</td>\n",
       "      <td>1.07</td>\n",
       "    </tr>\n",
       "    <tr>\n",
       "      <th>3</th>\n",
       "      <td>1035041</td>\n",
       "      <td>Everton</td>\n",
       "      <td>Fulham</td>\n",
       "      <td>0</td>\n",
       "      <td>1</td>\n",
       "      <td>Loss</td>\n",
       "      <td>41%</td>\n",
       "      <td>79%</td>\n",
       "      <td>19</td>\n",
       "      <td>2.73</td>\n",
       "      <td>59%</td>\n",
       "      <td>85%</td>\n",
       "      <td>9</td>\n",
       "      <td>1.50</td>\n",
       "    </tr>\n",
       "    <tr>\n",
       "      <th>4</th>\n",
       "      <td>1035040</td>\n",
       "      <td>Brighton</td>\n",
       "      <td>Luton</td>\n",
       "      <td>4</td>\n",
       "      <td>1</td>\n",
       "      <td>Win</td>\n",
       "      <td>71%</td>\n",
       "      <td>91%</td>\n",
       "      <td>27</td>\n",
       "      <td>4.01</td>\n",
       "      <td>29%</td>\n",
       "      <td>72%</td>\n",
       "      <td>9</td>\n",
       "      <td>1.48</td>\n",
       "    </tr>\n",
       "    <tr>\n",
       "      <th>5</th>\n",
       "      <td>1035042</td>\n",
       "      <td>Sheffield Utd</td>\n",
       "      <td>Crystal Palace</td>\n",
       "      <td>0</td>\n",
       "      <td>1</td>\n",
       "      <td>Loss</td>\n",
       "      <td>32%</td>\n",
       "      <td>62%</td>\n",
       "      <td>8</td>\n",
       "      <td>0.51</td>\n",
       "      <td>68%</td>\n",
       "      <td>83%</td>\n",
       "      <td>24</td>\n",
       "      <td>1.89</td>\n",
       "    </tr>\n",
       "    <tr>\n",
       "      <th>6</th>\n",
       "      <td>1035043</td>\n",
       "      <td>Newcastle</td>\n",
       "      <td>Aston Villa</td>\n",
       "      <td>5</td>\n",
       "      <td>1</td>\n",
       "      <td>Win</td>\n",
       "      <td>53%</td>\n",
       "      <td>85%</td>\n",
       "      <td>17</td>\n",
       "      <td>3.41</td>\n",
       "      <td>47%</td>\n",
       "      <td>85%</td>\n",
       "      <td>16</td>\n",
       "      <td>1.77</td>\n",
       "    </tr>\n",
       "    <tr>\n",
       "      <th>7</th>\n",
       "      <td>1035044</td>\n",
       "      <td>Brentford</td>\n",
       "      <td>Tottenham</td>\n",
       "      <td>2</td>\n",
       "      <td>2</td>\n",
       "      <td>Draw</td>\n",
       "      <td>30%</td>\n",
       "      <td>77%</td>\n",
       "      <td>11</td>\n",
       "      <td>2.22</td>\n",
       "      <td>70%</td>\n",
       "      <td>90%</td>\n",
       "      <td>18</td>\n",
       "      <td>1.27</td>\n",
       "    </tr>\n",
       "    <tr>\n",
       "      <th>8</th>\n",
       "      <td>1035045</td>\n",
       "      <td>Chelsea</td>\n",
       "      <td>Liverpool</td>\n",
       "      <td>1</td>\n",
       "      <td>1</td>\n",
       "      <td>Draw</td>\n",
       "      <td>65%</td>\n",
       "      <td>87%</td>\n",
       "      <td>10</td>\n",
       "      <td>1.35</td>\n",
       "      <td>35%</td>\n",
       "      <td>80%</td>\n",
       "      <td>13</td>\n",
       "      <td>1.28</td>\n",
       "    </tr>\n",
       "    <tr>\n",
       "      <th>9</th>\n",
       "      <td>1035046</td>\n",
       "      <td>Manchester United</td>\n",
       "      <td>Wolves</td>\n",
       "      <td>1</td>\n",
       "      <td>0</td>\n",
       "      <td>Win</td>\n",
       "      <td>51%</td>\n",
       "      <td>82%</td>\n",
       "      <td>15</td>\n",
       "      <td>2.21</td>\n",
       "      <td>49%</td>\n",
       "      <td>81%</td>\n",
       "      <td>23</td>\n",
       "      <td>2.35</td>\n",
       "    </tr>\n",
       "  </tbody>\n",
       "</table>\n",
       "</div>"
      ],
      "text/plain": [
       "   match_id          home_team          away_team  home_goals  away_goals  \\\n",
       "0   1035037            Burnley    Manchester City           0           3   \n",
       "1   1035038            Arsenal  Nottingham Forest           2           1   \n",
       "2   1035039        Bournemouth           West Ham           1           1   \n",
       "3   1035041            Everton             Fulham           0           1   \n",
       "4   1035040           Brighton              Luton           4           1   \n",
       "5   1035042      Sheffield Utd     Crystal Palace           0           1   \n",
       "6   1035043          Newcastle        Aston Villa           5           1   \n",
       "7   1035044          Brentford          Tottenham           2           2   \n",
       "8   1035045            Chelsea          Liverpool           1           1   \n",
       "9   1035046  Manchester United             Wolves           1           0   \n",
       "\n",
       "  match_outcome Home_Ball_Possession Home_Pass_Accuracy  Home_Total_Shots  \\\n",
       "0          Loss                  34%                79%                 6   \n",
       "1           Win                  78%                90%                15   \n",
       "2          Draw                  63%                82%                14   \n",
       "3          Loss                  41%                79%                19   \n",
       "4           Win                  71%                91%                27   \n",
       "5          Loss                  32%                62%                 8   \n",
       "6           Win                  53%                85%                17   \n",
       "7          Draw                  30%                77%                11   \n",
       "8          Draw                  65%                87%                10   \n",
       "9           Win                  51%                82%                15   \n",
       "\n",
       "   Home_Expected_Goals Away_Ball_Possession Away_Pass_Accuracy  \\\n",
       "0                 0.33                  66%                90%   \n",
       "1                 0.83                  22%                69%   \n",
       "2                 1.37                  37%                68%   \n",
       "3                 2.73                  59%                85%   \n",
       "4                 4.01                  29%                72%   \n",
       "5                 0.51                  68%                83%   \n",
       "6                 3.41                  47%                85%   \n",
       "7                 2.22                  70%                90%   \n",
       "8                 1.35                  35%                80%   \n",
       "9                 2.21                  49%                81%   \n",
       "\n",
       "   Away_Total_Shots  Away_Expected_Goals  \n",
       "0                17                 2.08  \n",
       "1                 6                 1.18  \n",
       "2                16                 1.07  \n",
       "3                 9                 1.50  \n",
       "4                 9                 1.48  \n",
       "5                24                 1.89  \n",
       "6                16                 1.77  \n",
       "7                18                 1.27  \n",
       "8                13                 1.28  \n",
       "9                23                 2.35  "
      ]
     },
     "execution_count": 3,
     "metadata": {},
     "output_type": "execute_result"
    }
   ],
   "source": [
    "df = pd.read_csv('matches_expanded.csv')\n",
    "df.head(10)"
   ]
  },
  {
   "cell_type": "markdown",
   "id": "79f04f64",
   "metadata": {},
   "source": [
    "Cleaning the Dataset"
   ]
  },
  {
   "cell_type": "code",
   "execution_count": 4,
   "id": "1a0b840b",
   "metadata": {},
   "outputs": [],
   "source": [
    "df.columns = df.columns.str.lower()\n",
    "\n",
    "df['home_ball_possession'] = df['home_ball_possession'].str.replace('%', '', regex=True).astype(float)\n",
    "df['home_pass_accuracy'] = df['home_pass_accuracy'].str.replace('%', '', regex=True).astype(float)\n",
    "df['away_ball_possession'] = df['away_ball_possession'].str.replace('%', '', regex=True).astype(float)\n",
    "df['away_pass_accuracy'] = df['away_pass_accuracy'].str.replace('%', '', regex=True).astype(float)"
   ]
  },
  {
   "cell_type": "markdown",
   "id": "2d861a35",
   "metadata": {},
   "source": [
    "# Feature Engineering"
   ]
  },
  {
   "cell_type": "markdown",
   "id": "13235f03",
   "metadata": {},
   "source": [
    "Adding New Statistics"
   ]
  },
  {
   "cell_type": "code",
   "execution_count": 5,
   "id": "828b07b3",
   "metadata": {},
   "outputs": [],
   "source": [
    "df[\"home_expected_goals_against\"] = df[\"away_expected_goals\"]\n",
    "df[\"away_expected_goals_against\"] = df[\"home_expected_goals\"]\n",
    "\n",
    "df[\"home_conversion_rate\"] = df[\"home_goals\"] / df[\"home_total_shots\"]\n",
    "df[\"away_conversion_rate\"] = df[\"away_goals\"] / df[\"away_total_shots\"]\n",
    "\n",
    "df[\"home_goal_difference\"] = df[\"home_goals\"] - df[\"away_goals\"]\n",
    "df[\"away_goal_difference\"] = df[\"away_goals\"] - df[\"home_goals\"]\n",
    "\n",
    "df[\"home_expected_goals_difference\"] = df[\"home_expected_goals\"] - df[\"away_expected_goals\"]\n",
    "df[\"away_expected_goals_difference\"] = df[\"away_expected_goals\"] - df[\"home_expected_goals\"]\n",
    "\n",
    "df[\"home_expected_goals_against_difference\"] = df[\"home_expected_goals_against\"] - df[\"away_expected_goals_against\"]\n",
    "df[\"away_expected_goals_against_difference\"] = df[\"away_expected_goals_against\"] - df[\"home_expected_goals_against\"]\n",
    "\n",
    "df[\"home_shot_difference\"] = df[\"home_total_shots\"] - df[\"away_total_shots\"]\n",
    "df[\"away_shot_difference\"] = df[\"away_total_shots\"] - df[\"home_total_shots\"]\n"
   ]
  },
  {
   "cell_type": "markdown",
   "id": "848d7608",
   "metadata": {},
   "source": [
    "Capturing the Statistics of a Team Over 5 Matches"
   ]
  },
  {
   "cell_type": "code",
   "execution_count": 6,
   "id": "361c8961",
   "metadata": {},
   "outputs": [],
   "source": [
    "# Function to compute rolling averages for all rows in the DataFrame\n",
    "def add_rolling_avg_stat(df, stat_col_prefix, num_matches=5):\n",
    "    home_avgs = []\n",
    "    away_avgs = []\n",
    "\n",
    "    for i in range(len(df)):\n",
    "        current_row = df.iloc[i]\n",
    "        home_team = current_row[\"home_team\"]\n",
    "        away_team = current_row[\"away_team\"]\n",
    "        prior_matches = df.iloc[:i]\n",
    "\n",
    "        # Get home team history\n",
    "        home_matches = prior_matches[\n",
    "            (prior_matches[\"home_team\"] == home_team) | (prior_matches[\"away_team\"] == home_team)\n",
    "        ].tail(num_matches)\n",
    "\n",
    "        home_values = []\n",
    "        for _, m in home_matches.iterrows():\n",
    "            if m[\"home_team\"] == home_team:\n",
    "                home_values.append(m[f\"home_{stat_col_prefix}\"])\n",
    "            else:\n",
    "                home_values.append(m[f\"away_{stat_col_prefix}\"])\n",
    "        home_avg = np.mean(home_values) if home_values else np.nan\n",
    "        if np.isnan(home_avg):\n",
    "            home_avg = current_row[f\"home_{stat_col_prefix}\"]\n",
    "        home_avgs.append(home_avg)\n",
    "\n",
    "        # Get away team history\n",
    "        away_matches = prior_matches[\n",
    "            (prior_matches[\"home_team\"] == away_team) | (prior_matches[\"away_team\"] == away_team)\n",
    "        ].tail(num_matches)\n",
    "\n",
    "        away_values = []\n",
    "        for _, m in away_matches.iterrows():\n",
    "            if m[\"home_team\"] == away_team:\n",
    "                away_values.append(m[f\"home_{stat_col_prefix}\"])\n",
    "            else:\n",
    "                away_values.append(m[f\"away_{stat_col_prefix}\"])\n",
    "        away_avg = np.mean(away_values) if away_values else np.nan\n",
    "        if np.isnan(away_avg):\n",
    "            away_avg = current_row[f\"away_{stat_col_prefix}\"]\n",
    "        away_avgs.append(away_avg)\n",
    "\n",
    "    # Store in DataFrame\n",
    "    df[f\"home_{stat_col_prefix}_last{num_matches}_avg\"] = home_avgs\n",
    "    df[f\"away_{stat_col_prefix}_last{num_matches}_avg\"] = away_avgs\n",
    "\n",
    "    return df\n",
    "\n",
    "# Apply function to statistics\n",
    "stats_to_process = [\"goals\", \"ball_possession\", \"pass_accuracy\", \"total_shots\", \"expected_goals\", \"expected_goals_against\", \"conversion_rate\", \"goal_difference\", \"expected_goals_difference\", \"expected_goals_against_difference\", \"shot_difference\"]\n",
    "\n",
    "for stat in stats_to_process:\n",
    "    df = add_rolling_avg_stat(df, stat, num_matches=5)\n"
   ]
  },
  {
   "cell_type": "code",
   "execution_count": null,
   "id": "9d79e78d",
   "metadata": {},
   "outputs": [],
   "source": [
    "df['home_under_1_5_goals_last5'] = df['home_goals_last5_avg'] < 1.5\n",
    "df['away_under_1_5_goals_last5'] = df['away_goals_last5_avg'] < 1.5"
   ]
  },
  {
   "cell_type": "markdown",
   "id": "798348b1",
   "metadata": {},
   "source": [
    "Capturing the Statistics of a Team Over The Season"
   ]
  },
  {
   "cell_type": "code",
   "execution_count": 7,
   "id": "1dc01fa8",
   "metadata": {},
   "outputs": [],
   "source": [
    "def add_avg_stat_all_history(df, stat_col_prefix):\n",
    "    home_avgs = []\n",
    "    away_avgs = []\n",
    "\n",
    "    for i in range(len(df)):\n",
    "        current_row = df.iloc[i]\n",
    "        home_team = current_row[\"home_team\"]\n",
    "        away_team = current_row[\"away_team\"]\n",
    "        prior_matches = df.iloc[:i]\n",
    "\n",
    "        # Home team average (all matches before i)\n",
    "        home_values = []\n",
    "        for _, match in prior_matches.iterrows():\n",
    "            if match[\"home_team\"] == home_team:\n",
    "                home_values.append(match[f\"home_{stat_col_prefix}\"])\n",
    "            elif match[\"away_team\"] == home_team:\n",
    "                home_values.append(match[f\"away_{stat_col_prefix}\"])\n",
    "        home_avg = np.mean(home_values) if home_values else np.nan\n",
    "        if np.isnan(home_avg):\n",
    "            home_avg = current_row[f\"home_{stat_col_prefix}\"]\n",
    "        home_avgs.append(home_avg)\n",
    "\n",
    "        # Away team average (all matches before i)\n",
    "        away_values = []\n",
    "        for _, match in prior_matches.iterrows():\n",
    "            if match[\"home_team\"] == away_team:\n",
    "                away_values.append(match[f\"home_{stat_col_prefix}\"])\n",
    "            elif match[\"away_team\"] == away_team:\n",
    "                away_values.append(match[f\"away_{stat_col_prefix}\"])\n",
    "        away_avg = np.mean(away_values) if away_values else np.nan\n",
    "        if np.isnan(away_avg):\n",
    "            away_avg = current_row[f\"away_{stat_col_prefix}\"]\n",
    "        away_avgs.append(away_avg)\n",
    "\n",
    "    df[f\"home_{stat_col_prefix}_avg_all\"] = home_avgs\n",
    "    df[f\"away_{stat_col_prefix}_avg_all\"] = away_avgs\n",
    "\n",
    "    return df\n",
    "\n",
    "stats_to_process = [\"goals\", \"ball_possession\", \"pass_accuracy\", \"total_shots\", \"expected_goals\", \"expected_goals_against\", \"conversion_rate\", \"goal_difference\", \"expected_goals_difference\", \"expected_goals_against_difference\", \"shot_difference\"]\n",
    "\n",
    "for stat in stats_to_process:\n",
    "    df = add_avg_stat_all_history(df, stat)"
   ]
  },
  {
   "cell_type": "markdown",
   "id": "0171d51c",
   "metadata": {},
   "source": [
    "Capturing League Form (how many wins, draws, losses in 5 games)"
   ]
  },
  {
   "cell_type": "code",
   "execution_count": 8,
   "id": "6e022d98",
   "metadata": {},
   "outputs": [],
   "source": [
    "def add_last5_results(df, num_matches=5):\n",
    "    home_wins, home_draws, home_losses = [], [], []\n",
    "    away_wins, away_draws, away_losses = [], [], []\n",
    "\n",
    "    for i in range(len(df)):\n",
    "        current_row = df.iloc[i]\n",
    "        home_team = current_row[\"home_team\"]\n",
    "        away_team = current_row[\"away_team\"]\n",
    "        prior_matches = df.iloc[:i]\n",
    "\n",
    "        def get_team_result(row, team):\n",
    "            if row[\"home_team\"] == team:\n",
    "                if row[\"home_goals\"] > row[\"away_goals\"]:\n",
    "                    return \"win\"\n",
    "                elif row[\"home_goals\"] < row[\"away_goals\"]:\n",
    "                    return \"loss\"\n",
    "                else:\n",
    "                    return \"draw\"\n",
    "            elif row[\"away_team\"] == team:\n",
    "                if row[\"away_goals\"] > row[\"home_goals\"]:\n",
    "                    return \"win\"\n",
    "                elif row[\"away_goals\"] < row[\"home_goals\"]:\n",
    "                    return \"loss\"\n",
    "                else:\n",
    "                    return \"draw\"\n",
    "            else:\n",
    "                return None\n",
    "\n",
    "        home_matches = prior_matches[\n",
    "            (prior_matches[\"home_team\"] == home_team) | (prior_matches[\"away_team\"] == home_team)\n",
    "        ].tail(num_matches)\n",
    "        home_results = [get_team_result(m, home_team) for _, m in home_matches.iterrows()]\n",
    "        home_wins.append(home_results.count(\"win\"))\n",
    "        home_draws.append(home_results.count(\"draw\"))\n",
    "        home_losses.append(home_results.count(\"loss\"))\n",
    "\n",
    "        away_matches = prior_matches[\n",
    "            (prior_matches[\"home_team\"] == away_team) | (prior_matches[\"away_team\"] == away_team)\n",
    "        ].tail(num_matches)\n",
    "        away_results = [get_team_result(m, away_team) for _, m in away_matches.iterrows()]\n",
    "        away_wins.append(away_results.count(\"win\"))\n",
    "        away_draws.append(away_results.count(\"draw\"))\n",
    "        away_losses.append(away_results.count(\"loss\"))\n",
    "\n",
    "    df[\"home_wins_last5\"] = home_wins\n",
    "    df[\"home_draws_last5\"] = home_draws\n",
    "    df[\"home_losses_last5\"] = home_losses\n",
    "    df[\"away_wins_last5\"] = away_wins\n",
    "    df[\"away_draws_last5\"] = away_draws\n",
    "    df[\"away_losses_last5\"] = away_losses\n",
    "\n",
    "    return df\n",
    "\n",
    "df = add_last5_results(df, num_matches=5)"
   ]
  },
  {
   "cell_type": "markdown",
   "id": "a7beec6b",
   "metadata": {},
   "source": [
    "Capturing Season Long Results (how many wins, draws, losses across the entire season)"
   ]
  },
  {
   "cell_type": "code",
   "execution_count": 9,
   "id": "8c3b2bd5",
   "metadata": {},
   "outputs": [],
   "source": [
    "def add_result_history(df):\n",
    "    home_wins, home_draws, home_losses = [], [], []\n",
    "    away_wins, away_draws, away_losses = [], [], []\n",
    "\n",
    "    for i in range(len(df)):\n",
    "        row = df.iloc[i]\n",
    "        home_team = row[\"home_team\"]\n",
    "        away_team = row[\"away_team\"]\n",
    "        prior = df.iloc[:i]\n",
    "\n",
    "        def result(row, team):\n",
    "            if row[\"home_team\"] == team:\n",
    "                return \"win\" if row[\"home_goals\"] > row[\"away_goals\"] else \"loss\" if row[\"home_goals\"] < row[\"away_goals\"] else \"draw\"\n",
    "            if row[\"away_team\"] == team:\n",
    "                return \"win\" if row[\"away_goals\"] > row[\"home_goals\"] else \"loss\" if row[\"away_goals\"] < row[\"home_goals\"] else \"draw\"\n",
    "\n",
    "        home_results = [result(m, home_team) for _, m in prior[(prior[\"home_team\"] == home_team) | (prior[\"away_team\"] == home_team)].iterrows()]\n",
    "        away_results = [result(m, away_team) for _, m in prior[(prior[\"home_team\"] == away_team) | (prior[\"away_team\"] == away_team)].iterrows()]\n",
    "\n",
    "        home_wins.append(home_results.count(\"win\"))\n",
    "        home_draws.append(home_results.count(\"draw\"))\n",
    "        home_losses.append(home_results.count(\"loss\"))\n",
    "        away_wins.append(away_results.count(\"win\"))\n",
    "        away_draws.append(away_results.count(\"draw\"))\n",
    "        away_losses.append(away_results.count(\"loss\"))\n",
    "\n",
    "    df[\"home_wins_all\"] = home_wins\n",
    "    df[\"home_draws_all\"] = home_draws\n",
    "    df[\"home_losses_all\"] = home_losses\n",
    "    df[\"away_wins_all\"] = away_wins\n",
    "    df[\"away_draws_all\"] = away_draws\n",
    "    df[\"away_losses_all\"] = away_losses\n",
    "\n",
    "    return df\n",
    "\n",
    "df = add_result_history(df)"
   ]
  },
  {
   "cell_type": "code",
   "execution_count": 10,
   "id": "e5a40a01",
   "metadata": {},
   "outputs": [],
   "source": [
    "df.to_csv('features.csv', index=False)"
   ]
  },
  {
   "cell_type": "markdown",
   "id": "f9ca5717",
   "metadata": {},
   "source": [
    "## Building the Neural Network Model"
   ]
  },
  {
   "cell_type": "markdown",
   "id": "c4cda522",
   "metadata": {},
   "source": [
    "Label Ecode Team Names"
   ]
  },
  {
   "cell_type": "code",
   "execution_count": 10,
   "id": "432173f1",
   "metadata": {},
   "outputs": [],
   "source": [
    "team_encoder = LabelEncoder()\n",
    "df['home_team_id'] = team_encoder.fit_transform(df['home_team'])\n",
    "df['away_team_id'] = team_encoder.transform(df['away_team'])"
   ]
  },
  {
   "cell_type": "markdown",
   "id": "4b09143d",
   "metadata": {},
   "source": [
    "Implementing Standard Scaling"
   ]
  },
  {
   "cell_type": "code",
   "execution_count": 11,
   "id": "9e6d5fad",
   "metadata": {},
   "outputs": [],
   "source": [
    "numerical_cols = [col for col in df.columns if col.endswith('_last5_avg') or col.endswith('_avg_all') or col.endswith('_last5') or col.endswith('_all')]\n",
    "scaler = StandardScaler()\n",
    "df[numerical_cols] = scaler.fit_transform(df[numerical_cols])"
   ]
  },
  {
   "cell_type": "markdown",
   "id": "5bdcb836",
   "metadata": {},
   "source": [
    "Gathering Inputs"
   ]
  },
  {
   "cell_type": "code",
   "execution_count": 12,
   "id": "62dff081",
   "metadata": {},
   "outputs": [],
   "source": [
    "X = df[numerical_cols]\n",
    "X = X.copy()\n",
    "X['home_team_id'] = df['home_team_id'].values\n",
    "X['away_team_id'] = df['away_team_id'].values\n"
   ]
  },
  {
   "cell_type": "markdown",
   "id": "c65dfae2",
   "metadata": {},
   "source": [
    "Label Encode Target (Win/Draw/Loss)"
   ]
  },
  {
   "cell_type": "code",
   "execution_count": 13,
   "id": "1f10a807",
   "metadata": {},
   "outputs": [],
   "source": [
    "outcome_encoder = LabelEncoder()\n",
    "df['outcome_encoded'] = outcome_encoder.fit_transform(df['match_outcome'])\n",
    "y = to_categorical(df['outcome_encoded'], num_classes=3)"
   ]
  },
  {
   "cell_type": "markdown",
   "id": "b78965df",
   "metadata": {},
   "source": [
    "Spliting Data Into Training and Test Datasets"
   ]
  },
  {
   "cell_type": "code",
   "execution_count": 14,
   "id": "244dec2f",
   "metadata": {},
   "outputs": [],
   "source": [
    "X_train, X_test, y_train, y_test = train_test_split(X, y, test_size=0.2, shuffle=False)"
   ]
  },
  {
   "cell_type": "markdown",
   "id": "499b860f",
   "metadata": {},
   "source": [
    "Building the Model"
   ]
  },
  {
   "cell_type": "code",
   "execution_count": 15,
   "id": "1ab12ecd",
   "metadata": {},
   "outputs": [],
   "source": [
    "input_layer = Input(shape=(X_train.shape[1],))\n",
    "x = Dense(128, activation='relu')(input_layer)\n",
    "x = Dropout(0.3)(x)\n",
    "x = Dense(64, activation='relu')(x)\n",
    "x = Dropout(0.3)(x)\n",
    "x = Dense(32, activation='relu')(x)\n",
    "output_layer = Dense(3, activation='softmax')(x)\n",
    "model = Model(inputs=input_layer, outputs=output_layer)\n",
    "model.compile(optimizer=Adam(learning_rate=0.001), loss='categorical_crossentropy', metrics=['accuracy'])"
   ]
  },
  {
   "cell_type": "markdown",
   "id": "653ea7b1",
   "metadata": {},
   "source": [
    "Training the Model"
   ]
  },
  {
   "cell_type": "code",
   "execution_count": 16,
   "id": "929fcbb5",
   "metadata": {},
   "outputs": [
    {
     "name": "stdout",
     "output_type": "stream",
     "text": [
      "Epoch 1/50\n",
      "\u001b[1m9/9\u001b[0m \u001b[32m━━━━━━━━━━━━━━━━━━━━\u001b[0m\u001b[37m\u001b[0m \u001b[1m4s\u001b[0m 75ms/step - accuracy: 0.2619 - loss: 1.7746 - val_accuracy: 0.2581 - val_loss: 1.4379\n",
      "Epoch 2/50\n",
      "\u001b[1m9/9\u001b[0m \u001b[32m━━━━━━━━━━━━━━━━━━━━\u001b[0m\u001b[37m\u001b[0m \u001b[1m0s\u001b[0m 24ms/step - accuracy: 0.4841 - loss: 1.1692 - val_accuracy: 0.3871 - val_loss: 1.2850\n",
      "Epoch 3/50\n",
      "\u001b[1m9/9\u001b[0m \u001b[32m━━━━━━━━━━━━━━━━━━━━\u001b[0m\u001b[37m\u001b[0m \u001b[1m0s\u001b[0m 27ms/step - accuracy: 0.4749 - loss: 1.1034 - val_accuracy: 0.4516 - val_loss: 1.1104\n",
      "Epoch 4/50\n",
      "\u001b[1m9/9\u001b[0m \u001b[32m━━━━━━━━━━━━━━━━━━━━\u001b[0m\u001b[37m\u001b[0m \u001b[1m0s\u001b[0m 23ms/step - accuracy: 0.5257 - loss: 1.0876 - val_accuracy: 0.4516 - val_loss: 1.0707\n",
      "Epoch 5/50\n",
      "\u001b[1m9/9\u001b[0m \u001b[32m━━━━━━━━━━━━━━━━━━━━\u001b[0m\u001b[37m\u001b[0m \u001b[1m0s\u001b[0m 21ms/step - accuracy: 0.5164 - loss: 1.0189 - val_accuracy: 0.3871 - val_loss: 1.0914\n",
      "Epoch 6/50\n",
      "\u001b[1m9/9\u001b[0m \u001b[32m━━━━━━━━━━━━━━━━━━━━\u001b[0m\u001b[37m\u001b[0m \u001b[1m0s\u001b[0m 23ms/step - accuracy: 0.5504 - loss: 0.9784 - val_accuracy: 0.3871 - val_loss: 1.0908\n",
      "Epoch 7/50\n",
      "\u001b[1m9/9\u001b[0m \u001b[32m━━━━━━━━━━━━━━━━━━━━\u001b[0m\u001b[37m\u001b[0m \u001b[1m0s\u001b[0m 34ms/step - accuracy: 0.5296 - loss: 1.0048 - val_accuracy: 0.4194 - val_loss: 1.0463\n",
      "Epoch 8/50\n",
      "\u001b[1m9/9\u001b[0m \u001b[32m━━━━━━━━━━━━━━━━━━━━\u001b[0m\u001b[37m\u001b[0m \u001b[1m0s\u001b[0m 22ms/step - accuracy: 0.5542 - loss: 0.9620 - val_accuracy: 0.4839 - val_loss: 1.0488\n",
      "Epoch 9/50\n",
      "\u001b[1m9/9\u001b[0m \u001b[32m━━━━━━━━━━━━━━━━━━━━\u001b[0m\u001b[37m\u001b[0m \u001b[1m0s\u001b[0m 22ms/step - accuracy: 0.5701 - loss: 0.9185 - val_accuracy: 0.4516 - val_loss: 1.0931\n",
      "Epoch 10/50\n",
      "\u001b[1m9/9\u001b[0m \u001b[32m━━━━━━━━━━━━━━━━━━━━\u001b[0m\u001b[37m\u001b[0m \u001b[1m0s\u001b[0m 23ms/step - accuracy: 0.5668 - loss: 0.9642 - val_accuracy: 0.4516 - val_loss: 1.0800\n",
      "Epoch 11/50\n",
      "\u001b[1m9/9\u001b[0m \u001b[32m━━━━━━━━━━━━━━━━━━━━\u001b[0m\u001b[37m\u001b[0m \u001b[1m0s\u001b[0m 20ms/step - accuracy: 0.5935 - loss: 0.9339 - val_accuracy: 0.4839 - val_loss: 1.0493\n",
      "Epoch 12/50\n",
      "\u001b[1m9/9\u001b[0m \u001b[32m━━━━━━━━━━━━━━━━━━━━\u001b[0m\u001b[37m\u001b[0m \u001b[1m0s\u001b[0m 21ms/step - accuracy: 0.6002 - loss: 0.9074 - val_accuracy: 0.4839 - val_loss: 1.0228\n",
      "Epoch 13/50\n",
      "\u001b[1m9/9\u001b[0m \u001b[32m━━━━━━━━━━━━━━━━━━━━\u001b[0m\u001b[37m\u001b[0m \u001b[1m0s\u001b[0m 23ms/step - accuracy: 0.5662 - loss: 0.9558 - val_accuracy: 0.4516 - val_loss: 1.0422\n",
      "Epoch 14/50\n",
      "\u001b[1m9/9\u001b[0m \u001b[32m━━━━━━━━━━━━━━━━━━━━\u001b[0m\u001b[37m\u001b[0m \u001b[1m0s\u001b[0m 24ms/step - accuracy: 0.5591 - loss: 0.9489 - val_accuracy: 0.4194 - val_loss: 1.0559\n",
      "Epoch 15/50\n",
      "\u001b[1m9/9\u001b[0m \u001b[32m━━━━━━━━━━━━━━━━━━━━\u001b[0m\u001b[37m\u001b[0m \u001b[1m0s\u001b[0m 20ms/step - accuracy: 0.5980 - loss: 0.8764 - val_accuracy: 0.3871 - val_loss: 1.0665\n",
      "Epoch 16/50\n",
      "\u001b[1m9/9\u001b[0m \u001b[32m━━━━━━━━━━━━━━━━━━━━\u001b[0m\u001b[37m\u001b[0m \u001b[1m0s\u001b[0m 20ms/step - accuracy: 0.5634 - loss: 0.9020 - val_accuracy: 0.3871 - val_loss: 1.0775\n",
      "Epoch 17/50\n",
      "\u001b[1m9/9\u001b[0m \u001b[32m━━━━━━━━━━━━━━━━━━━━\u001b[0m\u001b[37m\u001b[0m \u001b[1m0s\u001b[0m 22ms/step - accuracy: 0.6034 - loss: 0.8868 - val_accuracy: 0.3871 - val_loss: 1.0945\n",
      "Epoch 18/50\n",
      "\u001b[1m9/9\u001b[0m \u001b[32m━━━━━━━━━━━━━━━━━━━━\u001b[0m\u001b[37m\u001b[0m \u001b[1m0s\u001b[0m 23ms/step - accuracy: 0.5856 - loss: 0.8926 - val_accuracy: 0.4194 - val_loss: 1.0889\n",
      "Epoch 19/50\n",
      "\u001b[1m9/9\u001b[0m \u001b[32m━━━━━━━━━━━━━━━━━━━━\u001b[0m\u001b[37m\u001b[0m \u001b[1m0s\u001b[0m 23ms/step - accuracy: 0.6395 - loss: 0.8451 - val_accuracy: 0.4516 - val_loss: 1.0562\n",
      "Epoch 20/50\n",
      "\u001b[1m9/9\u001b[0m \u001b[32m━━━━━━━━━━━━━━━━━━━━\u001b[0m\u001b[37m\u001b[0m \u001b[1m0s\u001b[0m 20ms/step - accuracy: 0.6208 - loss: 0.8507 - val_accuracy: 0.4839 - val_loss: 1.0468\n",
      "Epoch 21/50\n",
      "\u001b[1m9/9\u001b[0m \u001b[32m━━━━━━━━━━━━━━━━━━━━\u001b[0m\u001b[37m\u001b[0m \u001b[1m0s\u001b[0m 23ms/step - accuracy: 0.6229 - loss: 0.8508 - val_accuracy: 0.4516 - val_loss: 1.0327\n",
      "Epoch 22/50\n",
      "\u001b[1m9/9\u001b[0m \u001b[32m━━━━━━━━━━━━━━━━━━━━\u001b[0m\u001b[37m\u001b[0m \u001b[1m0s\u001b[0m 22ms/step - accuracy: 0.5632 - loss: 0.8894 - val_accuracy: 0.4516 - val_loss: 1.0205\n",
      "Epoch 23/50\n",
      "\u001b[1m9/9\u001b[0m \u001b[32m━━━━━━━━━━━━━━━━━━━━\u001b[0m\u001b[37m\u001b[0m \u001b[1m0s\u001b[0m 32ms/step - accuracy: 0.6164 - loss: 0.8872 - val_accuracy: 0.4516 - val_loss: 1.0241\n",
      "Epoch 24/50\n",
      "\u001b[1m9/9\u001b[0m \u001b[32m━━━━━━━━━━━━━━━━━━━━\u001b[0m\u001b[37m\u001b[0m \u001b[1m0s\u001b[0m 19ms/step - accuracy: 0.5798 - loss: 0.8639 - val_accuracy: 0.3871 - val_loss: 1.0579\n",
      "Epoch 25/50\n",
      "\u001b[1m9/9\u001b[0m \u001b[32m━━━━━━━━━━━━━━━━━━━━\u001b[0m\u001b[37m\u001b[0m \u001b[1m0s\u001b[0m 19ms/step - accuracy: 0.5798 - loss: 0.8445 - val_accuracy: 0.4194 - val_loss: 1.0399\n",
      "Epoch 26/50\n",
      "\u001b[1m9/9\u001b[0m \u001b[32m━━━━━━━━━━━━━━━━━━━━\u001b[0m\u001b[37m\u001b[0m \u001b[1m0s\u001b[0m 23ms/step - accuracy: 0.5641 - loss: 0.8683 - val_accuracy: 0.4194 - val_loss: 1.0446\n",
      "Epoch 27/50\n",
      "\u001b[1m9/9\u001b[0m \u001b[32m━━━━━━━━━━━━━━━━━━━━\u001b[0m\u001b[37m\u001b[0m \u001b[1m0s\u001b[0m 21ms/step - accuracy: 0.5922 - loss: 0.8814 - val_accuracy: 0.3871 - val_loss: 1.0519\n",
      "Epoch 28/50\n",
      "\u001b[1m9/9\u001b[0m \u001b[32m━━━━━━━━━━━━━━━━━━━━\u001b[0m\u001b[37m\u001b[0m \u001b[1m0s\u001b[0m 20ms/step - accuracy: 0.6369 - loss: 0.8583 - val_accuracy: 0.3871 - val_loss: 1.0656\n",
      "Epoch 29/50\n",
      "\u001b[1m9/9\u001b[0m \u001b[32m━━━━━━━━━━━━━━━━━━━━\u001b[0m\u001b[37m\u001b[0m \u001b[1m0s\u001b[0m 23ms/step - accuracy: 0.6118 - loss: 0.8421 - val_accuracy: 0.4194 - val_loss: 1.0610\n",
      "Epoch 30/50\n",
      "\u001b[1m9/9\u001b[0m \u001b[32m━━━━━━━━━━━━━━━━━━━━\u001b[0m\u001b[37m\u001b[0m \u001b[1m0s\u001b[0m 23ms/step - accuracy: 0.6235 - loss: 0.8042 - val_accuracy: 0.3871 - val_loss: 1.0678\n",
      "Epoch 31/50\n",
      "\u001b[1m9/9\u001b[0m \u001b[32m━━━━━━━━━━━━━━━━━━━━\u001b[0m\u001b[37m\u001b[0m \u001b[1m0s\u001b[0m 23ms/step - accuracy: 0.6557 - loss: 0.7808 - val_accuracy: 0.4194 - val_loss: 1.1011\n",
      "Epoch 32/50\n",
      "\u001b[1m9/9\u001b[0m \u001b[32m━━━━━━━━━━━━━━━━━━━━\u001b[0m\u001b[37m\u001b[0m \u001b[1m0s\u001b[0m 25ms/step - accuracy: 0.6295 - loss: 0.8216 - val_accuracy: 0.3871 - val_loss: 1.1142\n",
      "Epoch 33/50\n",
      "\u001b[1m9/9\u001b[0m \u001b[32m━━━━━━━━━━━━━━━━━━━━\u001b[0m\u001b[37m\u001b[0m \u001b[1m0s\u001b[0m 20ms/step - accuracy: 0.6766 - loss: 0.7393 - val_accuracy: 0.3871 - val_loss: 1.0587\n",
      "Epoch 34/50\n",
      "\u001b[1m9/9\u001b[0m \u001b[32m━━━━━━━━━━━━━━━━━━━━\u001b[0m\u001b[37m\u001b[0m \u001b[1m0s\u001b[0m 23ms/step - accuracy: 0.6883 - loss: 0.7387 - val_accuracy: 0.4516 - val_loss: 1.0327\n",
      "Epoch 35/50\n",
      "\u001b[1m9/9\u001b[0m \u001b[32m━━━━━━━━━━━━━━━━━━━━\u001b[0m\u001b[37m\u001b[0m \u001b[1m0s\u001b[0m 20ms/step - accuracy: 0.6183 - loss: 0.8062 - val_accuracy: 0.4194 - val_loss: 1.0325\n",
      "Epoch 36/50\n",
      "\u001b[1m9/9\u001b[0m \u001b[32m━━━━━━━━━━━━━━━━━━━━\u001b[0m\u001b[37m\u001b[0m \u001b[1m0s\u001b[0m 35ms/step - accuracy: 0.6443 - loss: 0.7924 - val_accuracy: 0.4194 - val_loss: 1.0316\n",
      "Epoch 37/50\n",
      "\u001b[1m9/9\u001b[0m \u001b[32m━━━━━━━━━━━━━━━━━━━━\u001b[0m\u001b[37m\u001b[0m \u001b[1m0s\u001b[0m 20ms/step - accuracy: 0.6702 - loss: 0.7701 - val_accuracy: 0.4194 - val_loss: 1.0505\n",
      "Epoch 38/50\n",
      "\u001b[1m9/9\u001b[0m \u001b[32m━━━━━━━━━━━━━━━━━━━━\u001b[0m\u001b[37m\u001b[0m \u001b[1m0s\u001b[0m 25ms/step - accuracy: 0.6296 - loss: 0.8031 - val_accuracy: 0.4194 - val_loss: 1.0446\n",
      "Epoch 39/50\n",
      "\u001b[1m9/9\u001b[0m \u001b[32m━━━━━━━━━━━━━━━━━━━━\u001b[0m\u001b[37m\u001b[0m \u001b[1m0s\u001b[0m 20ms/step - accuracy: 0.6817 - loss: 0.7578 - val_accuracy: 0.4194 - val_loss: 1.0525\n",
      "Epoch 40/50\n",
      "\u001b[1m9/9\u001b[0m \u001b[32m━━━━━━━━━━━━━━━━━━━━\u001b[0m\u001b[37m\u001b[0m \u001b[1m0s\u001b[0m 20ms/step - accuracy: 0.6472 - loss: 0.7905 - val_accuracy: 0.4516 - val_loss: 1.0611\n",
      "Epoch 41/50\n",
      "\u001b[1m9/9\u001b[0m \u001b[32m━━━━━━━━━━━━━━━━━━━━\u001b[0m\u001b[37m\u001b[0m \u001b[1m0s\u001b[0m 19ms/step - accuracy: 0.6375 - loss: 0.7952 - val_accuracy: 0.4194 - val_loss: 1.1419\n",
      "Epoch 42/50\n",
      "\u001b[1m9/9\u001b[0m \u001b[32m━━━━━━━━━━━━━━━━━━━━\u001b[0m\u001b[37m\u001b[0m \u001b[1m0s\u001b[0m 22ms/step - accuracy: 0.6603 - loss: 0.6975 - val_accuracy: 0.4194 - val_loss: 1.1562\n",
      "Epoch 43/50\n",
      "\u001b[1m9/9\u001b[0m \u001b[32m━━━━━━━━━━━━━━━━━━━━\u001b[0m\u001b[37m\u001b[0m \u001b[1m0s\u001b[0m 20ms/step - accuracy: 0.7033 - loss: 0.7341 - val_accuracy: 0.4194 - val_loss: 1.1441\n",
      "Epoch 44/50\n",
      "\u001b[1m9/9\u001b[0m \u001b[32m━━━━━━━━━━━━━━━━━━━━\u001b[0m\u001b[37m\u001b[0m \u001b[1m0s\u001b[0m 20ms/step - accuracy: 0.7084 - loss: 0.7152 - val_accuracy: 0.4194 - val_loss: 1.1297\n",
      "Epoch 45/50\n",
      "\u001b[1m9/9\u001b[0m \u001b[32m━━━━━━━━━━━━━━━━━━━━\u001b[0m\u001b[37m\u001b[0m \u001b[1m0s\u001b[0m 20ms/step - accuracy: 0.6825 - loss: 0.7376 - val_accuracy: 0.4194 - val_loss: 1.1245\n",
      "Epoch 46/50\n",
      "\u001b[1m9/9\u001b[0m \u001b[32m━━━━━━━━━━━━━━━━━━━━\u001b[0m\u001b[37m\u001b[0m \u001b[1m0s\u001b[0m 20ms/step - accuracy: 0.6605 - loss: 0.6871 - val_accuracy: 0.4516 - val_loss: 1.1428\n",
      "Epoch 47/50\n",
      "\u001b[1m9/9\u001b[0m \u001b[32m━━━━━━━━━━━━━━━━━━━━\u001b[0m\u001b[37m\u001b[0m \u001b[1m1s\u001b[0m 61ms/step - accuracy: 0.6312 - loss: 0.7868 - val_accuracy: 0.4516 - val_loss: 1.1532\n",
      "Epoch 48/50\n",
      "\u001b[1m9/9\u001b[0m \u001b[32m━━━━━━━━━━━━━━━━━━━━\u001b[0m\u001b[37m\u001b[0m \u001b[1m0s\u001b[0m 31ms/step - accuracy: 0.6649 - loss: 0.7733 - val_accuracy: 0.4516 - val_loss: 1.1416\n",
      "Epoch 49/50\n",
      "\u001b[1m9/9\u001b[0m \u001b[32m━━━━━━━━━━━━━━━━━━━━\u001b[0m\u001b[37m\u001b[0m \u001b[1m1s\u001b[0m 38ms/step - accuracy: 0.6771 - loss: 0.7193 - val_accuracy: 0.4516 - val_loss: 1.1065\n",
      "Epoch 50/50\n",
      "\u001b[1m9/9\u001b[0m \u001b[32m━━━━━━━━━━━━━━━━━━━━\u001b[0m\u001b[37m\u001b[0m \u001b[1m0s\u001b[0m 28ms/step - accuracy: 0.7320 - loss: 0.6665 - val_accuracy: 0.4516 - val_loss: 1.1313\n"
     ]
    }
   ],
   "source": [
    "history = model.fit(X_train, y_train, epochs=50, batch_size=32, validation_split=0.1, verbose=1)"
   ]
  },
  {
   "cell_type": "markdown",
   "id": "3600e26e",
   "metadata": {},
   "source": [
    "## Evaluating the Model"
   ]
  },
  {
   "cell_type": "markdown",
   "id": "4641bf49",
   "metadata": {},
   "source": [
    "Predict and Evaluate"
   ]
  },
  {
   "cell_type": "code",
   "execution_count": 17,
   "id": "4d1b7827",
   "metadata": {},
   "outputs": [
    {
     "name": "stdout",
     "output_type": "stream",
     "text": [
      "\u001b[1m3/3\u001b[0m \u001b[32m━━━━━━━━━━━━━━━━━━━━\u001b[0m\u001b[37m\u001b[0m \u001b[1m0s\u001b[0m 90ms/step\n"
     ]
    }
   ],
   "source": [
    "# Predict probabilities on the test set\n",
    "y_test_probs = model.predict(X_test)\n",
    "\n",
    "# Predicted class labels (Win, Draw, Loss)\n",
    "y_test_pred = np.argmax(y_test_probs, axis=1)\n",
    "\n",
    "# True class labels (converted back from one-hot encoding)\n",
    "y_test_true = np.argmax(y_test, axis=1)"
   ]
  },
  {
   "cell_type": "code",
   "execution_count": 18,
   "id": "45f94f49",
   "metadata": {},
   "outputs": [
    {
     "name": "stdout",
     "output_type": "stream",
     "text": [
      "Accuracy: 0.631578947368421\n",
      "Classification Report:\n",
      "               precision    recall  f1-score   support\n",
      "\n",
      "        Draw       0.33      0.07      0.12        14\n",
      "        Loss       0.62      0.71      0.67        28\n",
      "         Win       0.66      0.79      0.72        34\n",
      "\n",
      "    accuracy                           0.63        76\n",
      "   macro avg       0.54      0.53      0.50        76\n",
      "weighted avg       0.59      0.63      0.59        76\n",
      "\n"
     ]
    }
   ],
   "source": [
    "print(\"Accuracy:\", accuracy_score(y_test_true, y_test_pred))\n",
    "print(\"Classification Report:\\n\", classification_report(y_test_true, y_test_pred, target_names=outcome_encoder.classes_))\n"
   ]
  },
  {
   "cell_type": "code",
   "execution_count": 20,
   "id": "61a26df6",
   "metadata": {},
   "outputs": [
    {
     "name": "stdout",
     "output_type": "stream",
     "text": [
      "  Actual Outcome Predicted Outcome  Confidence  Win Prob  Draw Prob  \\\n",
      "0           Loss               Win    0.443379  0.443379   0.168380   \n",
      "1           Loss               Win    0.738448  0.738448   0.110208   \n",
      "2            Win               Win    0.859316  0.859316   0.060478   \n",
      "3           Draw               Win    0.812416  0.812416   0.170258   \n",
      "4            Win              Loss    0.919413  0.044968   0.035619   \n",
      "\n",
      "   Loss Prob  home_team_id  away_team_id  Correct  \n",
      "0   0.388241             9            14    False  \n",
      "1   0.151344            19            18    False  \n",
      "2   0.080205             8             5     True  \n",
      "3   0.017326             1             3    False  \n",
      "4   0.919413            11             2    False  \n"
     ]
    }
   ],
   "source": [
    "y_test_pred_labels = outcome_encoder.inverse_transform(y_test_pred)\n",
    "y_test_true_labels = outcome_encoder.inverse_transform(y_test_true)\n",
    "# Build a dataframe to compare actual vs predicted\n",
    "test_results_df = pd.DataFrame({\n",
    "    'Actual Outcome': y_test_true_labels,\n",
    "    'Predicted Outcome': y_test_pred_labels,\n",
    "    'Confidence': np.max(y_test_probs, axis=1),\n",
    "    'Win Prob': y_test_probs[:, outcome_encoder.transform(['Win'])[0]],\n",
    "    'Draw Prob': y_test_probs[:, outcome_encoder.transform(['Draw'])[0]],\n",
    "    'Loss Prob': y_test_probs[:, outcome_encoder.transform(['Loss'])[0]]\n",
    "})\n",
    "\n",
    "\n",
    "test_results_df['home_team_id']  = X_test['home_team_id'].values\n",
    "test_results_df['away_team_id']  = X_test['away_team_id'].values\n",
    "\n",
    "# Add 'Correct' column (True if prediction matches actual)\n",
    "test_results_df['Correct'] = (test_results_df['Actual Outcome'] == test_results_df['Predicted Outcome'])\n",
    "\n",
    "test_results_df['home_team_id']  = X_test['home_team_id'].values\n",
    "test_results_df['away_team_id']  = X_test['away_team_id'].values\n",
    "\n",
    "# Show the first few predictions\n",
    "print(test_results_df.head())\n",
    "test_results_df.to_csv('test_results_1.csv', index=False)"
   ]
  },
  {
   "cell_type": "code",
   "execution_count": 21,
   "id": "b6cc3524",
   "metadata": {},
   "outputs": [
    {
     "data": {
      "image/png": "[encoded data removed]",
      "text/plain": [
       "<Figure size 600x500 with 2 Axes>"
      ]
     },
     "metadata": {},
     "output_type": "display_data"
    }
   ],
   "source": [
    "import seaborn as sns\n",
    "import matplotlib.pyplot as plt\n",
    "\n",
    "# Create confusion matrix\n",
    "cm = confusion_matrix(y_test_true_labels, y_test_pred_labels, labels=outcome_encoder.classes_)\n",
    "\n",
    "# Plot confusion matrix\n",
    "plt.figure(figsize=(6,5))\n",
    "sns.heatmap(cm, annot=True, fmt='d', cmap='Blues',\n",
    "            xticklabels=outcome_encoder.classes_,\n",
    "            yticklabels=outcome_encoder.classes_)\n",
    "plt.xlabel('Predicted')\n",
    "plt.ylabel('Actual')\n",
    "plt.title('Confusion Matrix on Test Set')\n",
    "plt.show()"
   ]
  },
  {
   "cell_type": "code",
   "execution_count": 22,
   "id": "cc924b75",
   "metadata": {},
   "outputs": [
    {
     "data": {
      "image/png": "[encoded data removed]",
      "text/plain": [
       "<Figure size 640x480 with 1 Axes>"
      ]
     },
     "metadata": {},
     "output_type": "display_data"
    }
   ],
   "source": [
    "# Group by Actual Outcome and calculate mean accuracy\n",
    "outcome_accuracy = test_results_df.groupby('Actual Outcome')['Correct'].mean()\n",
    "\n",
    "# Plot\n",
    "outcome_accuracy.plot(kind='bar', color='skyblue')\n",
    "plt.ylabel('Accuracy')\n",
    "plt.title('Prediction Accuracy per Outcome on Test Set')\n",
    "plt.ylim(0, 1)\n",
    "plt.grid(axis='y')\n",
    "plt.show()"
   ]
  },
  {
   "cell_type": "code",
   "execution_count": 23,
   "id": "e6ec8284",
   "metadata": {},
   "outputs": [
    {
     "name": "stdout",
     "output_type": "stream",
     "text": [
      "Low-Confidence Wrong Predictions: 11 matches\n",
      "   Actual Outcome Predicted Outcome  Confidence\n",
      "0            Loss               Win    0.443379\n",
      "13           Draw               Win    0.423953\n",
      "14           Draw              Loss    0.556986\n",
      "16           Loss               Win    0.418790\n",
      "24            Win              Draw    0.502897\n",
      "30            Win              Loss    0.434777\n",
      "43           Draw              Loss    0.401796\n",
      "54           Draw               Win    0.494517\n",
      "56           Loss               Win    0.471725\n",
      "62           Draw              Loss    0.484019\n",
      "75           Loss               Win    0.532307\n"
     ]
    }
   ],
   "source": [
    "# Define low confidence threshold\n",
    "low_confidence_threshold = 0.6\n",
    "\n",
    "# Create a column marking low-confidence wrong predictions\n",
    "test_results_df['Low-Confidence Wrong'] = (\n",
    "    (~test_results_df['Correct']) & (test_results_df['Confidence'] < low_confidence_threshold)\n",
    ")\n",
    "\n",
    "# Display only low-confidence wrong predictions\n",
    "low_conf_wrong_preds = test_results_df[test_results_df['Low-Confidence Wrong']]\n",
    "\n",
    "print(f\"Low-Confidence Wrong Predictions: {len(low_conf_wrong_preds)} matches\")\n",
    "print(low_conf_wrong_preds[['Actual Outcome', 'Predicted Outcome', 'Confidence']])"
   ]
  },
  {
   "cell_type": "code",
   "execution_count": 24,
   "id": "79144f3d",
   "metadata": {},
   "outputs": [
    {
     "data": {
      "image/png": "[encoded data removed]",
      "text/plain": [
       "<Figure size 800x500 with 1 Axes>"
      ]
     },
     "metadata": {},
     "output_type": "display_data"
    }
   ],
   "source": [
    "# Plot the distribution of confidence scores\n",
    "plt.figure(figsize=(8,5))\n",
    "plt.hist(test_results_df['Confidence'], bins=20, color='mediumseagreen', edgecolor='black')\n",
    "plt.xlabel('Prediction Confidence')\n",
    "plt.ylabel('Number of Matches')\n",
    "plt.title('Distribution of Prediction Confidence (Test Set)')\n",
    "plt.grid(axis='y')\n",
    "plt.show()"
   ]
  },
  {
   "cell_type": "markdown",
   "id": "3c92cf80",
   "metadata": {},
   "source": [
    "## Hyperparameter Tuning"
   ]
  },
  {
   "cell_type": "markdown",
   "id": "95493217",
   "metadata": {},
   "source": [
    "Defining a Hypermodel"
   ]
  },
  {
   "cell_type": "code",
   "execution_count": 25,
   "id": "b1f23239",
   "metadata": {},
   "outputs": [],
   "source": [
    "def build_model(hp):\n",
    "    model = models.Sequential()\n",
    "    \n",
    "    # Input layer\n",
    "    model.add(layers.Input(shape=(X_train.shape[1],)))\n",
    "    \n",
    "    # Tune number of hidden layers (1–3)\n",
    "    for i in range(hp.Int('num_layers', 1, 3)):\n",
    "        # Tune units per layer\n",
    "        units = hp.Int(f'units_{i}', min_value=32, max_value=256, step=32)\n",
    "        model.add(layers.Dense(units, activation='relu'))\n",
    "        \n",
    "        # Tune dropout rate\n",
    "        dropout_rate = hp.Float(f'dropout_rate_{i}', min_value=0.1, max_value=0.5, step=0.1)\n",
    "        model.add(layers.Dropout(dropout_rate))\n",
    "    \n",
    "    # Output layer\n",
    "    model.add(layers.Dense(3, activation='softmax'))  # 3 classes (Win, Draw, Loss)\n",
    "    \n",
    "    # Tune learning rate\n",
    "    learning_rate = hp.Float('learning_rate', min_value=1e-4, max_value=1e-2, sampling='log')\n",
    "    optimizer = optimizers.Adam(learning_rate=learning_rate)\n",
    "    \n",
    "    model.compile(\n",
    "        optimizer=optimizer,\n",
    "        loss='categorical_crossentropy',\n",
    "        metrics=['accuracy']\n",
    "    )\n",
    "    \n",
    "    return model"
   ]
  },
  {
   "cell_type": "markdown",
   "id": "c6911538",
   "metadata": {},
   "source": [
    "Hyperparameter Search"
   ]
  },
  {
   "cell_type": "code",
   "execution_count": 26,
   "id": "c5173614",
   "metadata": {},
   "outputs": [
    {
     "name": "stdout",
     "output_type": "stream",
     "text": [
      "Trial 30 Complete [00h 00m 05s]\n",
      "val_accuracy: 0.6557376980781555\n",
      "\n",
      "Best val_accuracy So Far: 0.6721311211585999\n",
      "Total elapsed time: 00h 05m 39s\n"
     ]
    }
   ],
   "source": [
    "tuner = kt.RandomSearch(\n",
    "    build_model,\n",
    "    objective='val_accuracy',\n",
    "    max_trials=30,  # How many different models to try\n",
    "    executions_per_trial=1,\n",
    "    overwrite=True,\n",
    "    directory='tuning_dir',\n",
    "    project_name='soccer_match_outcome'\n",
    ")\n",
    "\n",
    "# Perform the search\n",
    "tuner.search(\n",
    "    X_train, y_train,\n",
    "    epochs=30,\n",
    "    validation_split=0.2,\n",
    "    batch_size=32,\n",
    "    callbacks=[tf.keras.callbacks.EarlyStopping(monitor='val_loss', patience=5)]\n",
    ")\n",
    "\n",
    "# Get the best model\n",
    "best_hps = tuner.get_best_hyperparameters(num_trials=1)[0]\n"
   ]
  },
  {
   "cell_type": "markdown",
   "id": "0c9086f3",
   "metadata": {},
   "source": [
    "Validation Accuracy Across Trials"
   ]
  },
  {
   "cell_type": "code",
   "execution_count": 27,
   "id": "f8d4845c",
   "metadata": {},
   "outputs": [
    {
     "data": {
      "image/png": "[encoded data removed]",
      "text/plain": [
       "<Figure size 1000x600 with 1 Axes>"
      ]
     },
     "metadata": {},
     "output_type": "display_data"
    }
   ],
   "source": [
    "# Get all trials\n",
    "trials = tuner.oracle.get_best_trials(num_trials=len(tuner.oracle.trials))\n",
    "\n",
    "# Extract validation metrics\n",
    "trial_scores = []\n",
    "for trial in trials:\n",
    "    trial_id = trial.trial_id\n",
    "    metrics_names = trial.metrics.metrics.keys()  # List available metrics\n",
    "\n",
    "    if 'val_accuracy' in metrics_names:\n",
    "        val_score = trial.metrics.get_last_value('val_accuracy')\n",
    "        metric_used = 'Validation Accuracy'\n",
    "    elif 'val_loss' in metrics_names:\n",
    "        val_score = -trial.metrics.get_last_value('val_loss')  # Negative because lower loss = better\n",
    "        metric_used = 'Negative Validation Loss'\n",
    "    else:\n",
    "        val_score = None  # Shouldn't happen unless tuning broke\n",
    "        metric_used = 'Unknown'\n",
    "    \n",
    "    trial_scores.append((int(trial_id), val_score, metric_used))\n",
    "\n",
    "# Build DataFrame\n",
    "trials_df = pd.DataFrame(trial_scores, columns=['Trial', 'Score', 'Metric'])\n",
    "\n",
    "# Sort by trial number\n",
    "trials_df = trials_df.sort_values('Trial')\n",
    "\n",
    "# Plot\n",
    "plt.figure(figsize=(10,6))\n",
    "plt.plot(trials_df['Trial'], trials_df['Score'], marker='o')\n",
    "plt.title('Validation Accuracy across Tuning Trials (Bayesian Optimization)', fontsize=14)\n",
    "plt.xlabel('Trial', fontsize=12)\n",
    "plt.ylabel('Validation Accuracy', fontsize=12)\n",
    "plt.grid(True)\n",
    "plt.show()\n"
   ]
  },
  {
   "cell_type": "markdown",
   "id": "0c52afeb",
   "metadata": {},
   "source": [
    "By tuning hyperparameters accuracy was able to improve 15% from ~55% to ~70%. Let's try and use Bayesian Optimization to see if a better model can be found"
   ]
  },
  {
   "cell_type": "markdown",
   "id": "4107f7b2",
   "metadata": {},
   "source": [
    "Defining a New Hypermodel"
   ]
  },
  {
   "cell_type": "code",
   "execution_count": 34,
   "id": "19b0c807",
   "metadata": {},
   "outputs": [],
   "source": [
    "def build_model(hp):\n",
    "    model = models.Sequential()\n",
    "    \n",
    "    # Input layer\n",
    "    model.add(layers.Input(shape=(X_train.shape[1],)))  # Adjust if you have team embeddings added\n",
    "\n",
    "    # Hidden layers\n",
    "    for i in range(hp.Int('num_layers', 1, 3)):\n",
    "        model.add(\n",
    "            layers.Dense(\n",
    "                units=hp.Int(f'units_{i}', min_value=64, max_value=256, step=32),\n",
    "                activation='relu'\n",
    "            )\n",
    "        )\n",
    "        model.add(\n",
    "            layers.Dropout(\n",
    "                rate=hp.Float(f'dropout_{i}', min_value=0.2, max_value=0.5, step=0.1)\n",
    "            )\n",
    "        )\n",
    "\n",
    "    # Output layer\n",
    "    model.add(layers.Dense(3, activation='softmax'))\n",
    "\n",
    "    # Optimizer\n",
    "    optimizer = optimizers.Adam(\n",
    "        learning_rate=hp.Float('learning_rate', 1e-4, 5e-3, sampling='log')\n",
    "    )\n",
    "\n",
    "    model.compile(\n",
    "        optimizer=optimizer,\n",
    "        loss='categorical_crossentropy',\n",
    "        metrics=['accuracy']\n",
    "    )\n",
    "\n",
    "    return model"
   ]
  },
  {
   "cell_type": "markdown",
   "id": "479adad5",
   "metadata": {},
   "source": [
    "Hyperparamter Search"
   ]
  },
  {
   "cell_type": "code",
   "execution_count": 36,
   "id": "e209c83c",
   "metadata": {},
   "outputs": [
    {
     "name": "stdout",
     "output_type": "stream",
     "text": [
      "Trial 30 Complete [00h 00m 11s]\n",
      "val_accuracy: 0.5901639461517334\n",
      "\n",
      "Best val_accuracy So Far: 0.6393442749977112\n",
      "Total elapsed time: 00h 05m 09s\n"
     ]
    }
   ],
   "source": [
    "# 2. Instantiate Bayesian tuner\n",
    "tuner = kt.BayesianOptimization(\n",
    "    build_model,\n",
    "    objective='val_accuracy',\n",
    "    max_trials=30,           # More trials = better search, you can adjust\n",
    "    executions_per_trial=1,  # Averaging can be added if you want even smoother results\n",
    "    directory='tuner_dir',\n",
    "    project_name='soccer_outcome_bayes'\n",
    ")\n",
    "\n",
    "# 3. Early stopping callback\n",
    "early_stopping = callbacks.EarlyStopping(\n",
    "    monitor='val_loss',\n",
    "    patience=5,\n",
    "    restore_best_weights=True\n",
    ")\n",
    "\n",
    "# 4. Launch the tuning search\n",
    "tuner.search(\n",
    "    X_train, y_train,\n",
    "    epochs=50,                     # Train longer so tuner sees real model potential\n",
    "    validation_split=0.2,           # 20% validation\n",
    "    callbacks=[early_stopping],\n",
    "    verbose=2\n",
    ")\n",
    "\n",
    "# 5. Retrieve the best model\n",
    "best_hp = tuner.get_best_hyperparameters(1)[0]"
   ]
  },
  {
   "cell_type": "markdown",
   "id": "2b0c5015",
   "metadata": {},
   "source": [
    "## Training and Evaluating The Best Model Found"
   ]
  },
  {
   "cell_type": "markdown",
   "id": "74b3477a",
   "metadata": {},
   "source": [
    "Predict and Evaluate"
   ]
  },
  {
   "cell_type": "code",
   "execution_count": 37,
   "id": "8dcf05bf",
   "metadata": {},
   "outputs": [
    {
     "name": "stdout",
     "output_type": "stream",
     "text": [
      "Epoch 1/50\n",
      "\u001b[1m9/9\u001b[0m \u001b[32m━━━━━━━━━━━━━━━━━━━━\u001b[0m\u001b[37m\u001b[0m \u001b[1m5s\u001b[0m 87ms/step - accuracy: 0.4116 - loss: 1.4708 - val_accuracy: 0.4516 - val_loss: 1.2045\n",
      "Epoch 2/50\n",
      "\u001b[1m9/9\u001b[0m \u001b[32m━━━━━━━━━━━━━━━━━━━━\u001b[0m\u001b[37m\u001b[0m \u001b[1m0s\u001b[0m 25ms/step - accuracy: 0.5464 - loss: 1.0326 - val_accuracy: 0.5806 - val_loss: 0.9794\n",
      "Epoch 3/50\n",
      "\u001b[1m9/9\u001b[0m \u001b[32m━━━━━━━━━━━━━━━━━━━━\u001b[0m\u001b[37m\u001b[0m \u001b[1m0s\u001b[0m 23ms/step - accuracy: 0.5298 - loss: 0.9912 - val_accuracy: 0.4839 - val_loss: 1.0192\n",
      "Epoch 4/50\n",
      "\u001b[1m9/9\u001b[0m \u001b[32m━━━━━━━━━━━━━━━━━━━━\u001b[0m\u001b[37m\u001b[0m \u001b[1m0s\u001b[0m 23ms/step - accuracy: 0.5799 - loss: 0.9376 - val_accuracy: 0.4194 - val_loss: 1.0390\n",
      "Epoch 5/50\n",
      "\u001b[1m9/9\u001b[0m \u001b[32m━━━━━━━━━━━━━━━━━━━━\u001b[0m\u001b[37m\u001b[0m \u001b[1m0s\u001b[0m 30ms/step - accuracy: 0.6081 - loss: 0.8250 - val_accuracy: 0.3871 - val_loss: 1.0887\n",
      "Epoch 6/50\n",
      "\u001b[1m9/9\u001b[0m \u001b[32m━━━━━━━━━━━━━━━━━━━━\u001b[0m\u001b[37m\u001b[0m \u001b[1m0s\u001b[0m 37ms/step - accuracy: 0.6340 - loss: 0.7923 - val_accuracy: 0.4516 - val_loss: 1.1444\n",
      "Epoch 7/50\n",
      "\u001b[1m9/9\u001b[0m \u001b[32m━━━━━━━━━━━━━━━━━━━━\u001b[0m\u001b[37m\u001b[0m \u001b[1m0s\u001b[0m 22ms/step - accuracy: 0.5895 - loss: 0.8819 - val_accuracy: 0.3871 - val_loss: 1.0697\n",
      "Epoch 8/50\n",
      "\u001b[1m9/9\u001b[0m \u001b[32m━━━━━━━━━━━━━━━━━━━━\u001b[0m\u001b[37m\u001b[0m \u001b[1m0s\u001b[0m 26ms/step - accuracy: 0.6501 - loss: 0.7844 - val_accuracy: 0.3871 - val_loss: 1.1036\n",
      "Epoch 9/50\n",
      "\u001b[1m9/9\u001b[0m \u001b[32m━━━━━━━━━━━━━━━━━━━━\u001b[0m\u001b[37m\u001b[0m \u001b[1m0s\u001b[0m 27ms/step - accuracy: 0.6876 - loss: 0.7105 - val_accuracy: 0.4194 - val_loss: 1.1340\n",
      "Epoch 10/50\n",
      "\u001b[1m9/9\u001b[0m \u001b[32m━━━━━━━━━━━━━━━━━━━━\u001b[0m\u001b[37m\u001b[0m \u001b[1m0s\u001b[0m 23ms/step - accuracy: 0.6532 - loss: 0.7707 - val_accuracy: 0.3548 - val_loss: 1.1223\n",
      "Epoch 11/50\n",
      "\u001b[1m9/9\u001b[0m \u001b[32m━━━━━━━━━━━━━━━━━━━━\u001b[0m\u001b[37m\u001b[0m \u001b[1m0s\u001b[0m 21ms/step - accuracy: 0.6565 - loss: 0.7774 - val_accuracy: 0.4194 - val_loss: 1.1830\n",
      "Epoch 12/50\n",
      "\u001b[1m9/9\u001b[0m \u001b[32m━━━━━━━━━━━━━━━━━━━━\u001b[0m\u001b[37m\u001b[0m \u001b[1m0s\u001b[0m 35ms/step - accuracy: 0.7124 - loss: 0.7155 - val_accuracy: 0.4516 - val_loss: 1.1127\n",
      "Epoch 13/50\n",
      "\u001b[1m9/9\u001b[0m \u001b[32m━━━━━━━━━━━━━━━━━━━━\u001b[0m\u001b[37m\u001b[0m \u001b[1m0s\u001b[0m 24ms/step - accuracy: 0.7522 - loss: 0.6596 - val_accuracy: 0.4516 - val_loss: 1.0228\n",
      "Epoch 14/50\n",
      "\u001b[1m9/9\u001b[0m \u001b[32m━━━━━━━━━━━━━━━━━━━━\u001b[0m\u001b[37m\u001b[0m \u001b[1m0s\u001b[0m 21ms/step - accuracy: 0.6861 - loss: 0.6925 - val_accuracy: 0.4194 - val_loss: 1.1526\n",
      "Epoch 15/50\n",
      "\u001b[1m9/9\u001b[0m \u001b[32m━━━━━━━━━━━━━━━━━━━━\u001b[0m\u001b[37m\u001b[0m \u001b[1m0s\u001b[0m 22ms/step - accuracy: 0.7242 - loss: 0.6347 - val_accuracy: 0.4839 - val_loss: 1.0968\n",
      "Epoch 16/50\n",
      "\u001b[1m9/9\u001b[0m \u001b[32m━━━━━━━━━━━━━━━━━━━━\u001b[0m\u001b[37m\u001b[0m \u001b[1m0s\u001b[0m 28ms/step - accuracy: 0.7457 - loss: 0.6405 - val_accuracy: 0.4516 - val_loss: 1.1204\n",
      "Epoch 17/50\n",
      "\u001b[1m9/9\u001b[0m \u001b[32m━━━━━━━━━━━━━━━━━━━━\u001b[0m\u001b[37m\u001b[0m \u001b[1m0s\u001b[0m 28ms/step - accuracy: 0.7363 - loss: 0.6068 - val_accuracy: 0.4839 - val_loss: 1.1402\n",
      "Epoch 18/50\n",
      "\u001b[1m9/9\u001b[0m \u001b[32m━━━━━━━━━━━━━━━━━━━━\u001b[0m\u001b[37m\u001b[0m \u001b[1m0s\u001b[0m 38ms/step - accuracy: 0.7636 - loss: 0.5721 - val_accuracy: 0.4194 - val_loss: 1.1969\n",
      "Epoch 19/50\n",
      "\u001b[1m9/9\u001b[0m \u001b[32m━━━━━━━━━━━━━━━━━━━━\u001b[0m\u001b[37m\u001b[0m \u001b[1m0s\u001b[0m 20ms/step - accuracy: 0.8188 - loss: 0.5113 - val_accuracy: 0.4516 - val_loss: 1.2366\n",
      "Epoch 20/50\n",
      "\u001b[1m9/9\u001b[0m \u001b[32m━━━━━━━━━━━━━━━━━━━━\u001b[0m\u001b[37m\u001b[0m \u001b[1m0s\u001b[0m 26ms/step - accuracy: 0.8199 - loss: 0.5380 - val_accuracy: 0.4516 - val_loss: 1.2155\n",
      "Epoch 21/50\n",
      "\u001b[1m9/9\u001b[0m \u001b[32m━━━━━━━━━━━━━━━━━━━━\u001b[0m\u001b[37m\u001b[0m \u001b[1m0s\u001b[0m 22ms/step - accuracy: 0.7636 - loss: 0.5490 - val_accuracy: 0.4516 - val_loss: 1.2479\n",
      "Epoch 22/50\n",
      "\u001b[1m9/9\u001b[0m \u001b[32m━━━━━━━━━━━━━━━━━━━━\u001b[0m\u001b[37m\u001b[0m \u001b[1m0s\u001b[0m 26ms/step - accuracy: 0.7460 - loss: 0.5213 - val_accuracy: 0.4839 - val_loss: 1.1707\n",
      "Epoch 23/50\n",
      "\u001b[1m9/9\u001b[0m \u001b[32m━━━━━━━━━━━━━━━━━━━━\u001b[0m\u001b[37m\u001b[0m \u001b[1m0s\u001b[0m 28ms/step - accuracy: 0.8276 - loss: 0.4605 - val_accuracy: 0.4839 - val_loss: 1.1999\n",
      "Epoch 24/50\n",
      "\u001b[1m9/9\u001b[0m \u001b[32m━━━━━━━━━━━━━━━━━━━━\u001b[0m\u001b[37m\u001b[0m \u001b[1m0s\u001b[0m 28ms/step - accuracy: 0.8107 - loss: 0.4855 - val_accuracy: 0.4194 - val_loss: 1.3379\n",
      "Epoch 25/50\n",
      "\u001b[1m9/9\u001b[0m \u001b[32m━━━━━━━━━━━━━━━━━━━━\u001b[0m\u001b[37m\u001b[0m \u001b[1m0s\u001b[0m 29ms/step - accuracy: 0.8059 - loss: 0.5165 - val_accuracy: 0.4516 - val_loss: 1.2670\n",
      "Epoch 26/50\n",
      "\u001b[1m9/9\u001b[0m \u001b[32m━━━━━━━━━━━━━━━━━━━━\u001b[0m\u001b[37m\u001b[0m \u001b[1m0s\u001b[0m 20ms/step - accuracy: 0.8241 - loss: 0.4748 - val_accuracy: 0.4194 - val_loss: 1.3791\n",
      "Epoch 27/50\n",
      "\u001b[1m9/9\u001b[0m \u001b[32m━━━━━━━━━━━━━━━━━━━━\u001b[0m\u001b[37m\u001b[0m \u001b[1m0s\u001b[0m 19ms/step - accuracy: 0.8359 - loss: 0.4720 - val_accuracy: 0.5161 - val_loss: 1.2700\n",
      "Epoch 28/50\n",
      "\u001b[1m9/9\u001b[0m \u001b[32m━━━━━━━━━━━━━━━━━━━━\u001b[0m\u001b[37m\u001b[0m \u001b[1m0s\u001b[0m 19ms/step - accuracy: 0.8442 - loss: 0.4469 - val_accuracy: 0.4839 - val_loss: 1.3800\n",
      "Epoch 29/50\n",
      "\u001b[1m9/9\u001b[0m \u001b[32m━━━━━━━━━━━━━━━━━━━━\u001b[0m\u001b[37m\u001b[0m \u001b[1m0s\u001b[0m 20ms/step - accuracy: 0.8602 - loss: 0.3853 - val_accuracy: 0.4839 - val_loss: 1.3489\n",
      "Epoch 30/50\n",
      "\u001b[1m9/9\u001b[0m \u001b[32m━━━━━━━━━━━━━━━━━━━━\u001b[0m\u001b[37m\u001b[0m \u001b[1m0s\u001b[0m 27ms/step - accuracy: 0.8853 - loss: 0.4014 - val_accuracy: 0.4194 - val_loss: 1.3618\n",
      "Epoch 31/50\n",
      "\u001b[1m9/9\u001b[0m \u001b[32m━━━━━━━━━━━━━━━━━━━━\u001b[0m\u001b[37m\u001b[0m \u001b[1m0s\u001b[0m 35ms/step - accuracy: 0.8602 - loss: 0.3888 - val_accuracy: 0.3871 - val_loss: 1.4797\n",
      "Epoch 32/50\n",
      "\u001b[1m9/9\u001b[0m \u001b[32m━━━━━━━━━━━━━━━━━━━━\u001b[0m\u001b[37m\u001b[0m \u001b[1m0s\u001b[0m 24ms/step - accuracy: 0.8629 - loss: 0.4039 - val_accuracy: 0.4516 - val_loss: 1.4796\n",
      "Epoch 33/50\n",
      "\u001b[1m9/9\u001b[0m \u001b[32m━━━━━━━━━━━━━━━━━━━━\u001b[0m\u001b[37m\u001b[0m \u001b[1m0s\u001b[0m 21ms/step - accuracy: 0.8493 - loss: 0.3930 - val_accuracy: 0.4516 - val_loss: 1.4500\n",
      "Epoch 34/50\n",
      "\u001b[1m9/9\u001b[0m \u001b[32m━━━━━━━━━━━━━━━━━━━━\u001b[0m\u001b[37m\u001b[0m \u001b[1m0s\u001b[0m 18ms/step - accuracy: 0.9139 - loss: 0.3519 - val_accuracy: 0.4839 - val_loss: 1.5026\n",
      "Epoch 35/50\n",
      "\u001b[1m9/9\u001b[0m \u001b[32m━━━━━━━━━━━━━━━━━━━━\u001b[0m\u001b[37m\u001b[0m \u001b[1m0s\u001b[0m 22ms/step - accuracy: 0.8615 - loss: 0.3819 - val_accuracy: 0.4516 - val_loss: 1.4992\n",
      "Epoch 36/50\n",
      "\u001b[1m9/9\u001b[0m \u001b[32m━━━━━━━━━━━━━━━━━━━━\u001b[0m\u001b[37m\u001b[0m \u001b[1m0s\u001b[0m 22ms/step - accuracy: 0.8778 - loss: 0.3283 - val_accuracy: 0.4839 - val_loss: 1.5228\n",
      "Epoch 37/50\n",
      "\u001b[1m9/9\u001b[0m \u001b[32m━━━━━━━━━━━━━━━━━━━━\u001b[0m\u001b[37m\u001b[0m \u001b[1m0s\u001b[0m 21ms/step - accuracy: 0.8908 - loss: 0.3272 - val_accuracy: 0.5161 - val_loss: 1.5038\n",
      "Epoch 38/50\n",
      "\u001b[1m9/9\u001b[0m \u001b[32m━━━━━━━━━━━━━━━━━━━━\u001b[0m\u001b[37m\u001b[0m \u001b[1m0s\u001b[0m 20ms/step - accuracy: 0.9076 - loss: 0.2988 - val_accuracy: 0.4839 - val_loss: 1.5072\n",
      "Epoch 39/50\n",
      "\u001b[1m9/9\u001b[0m \u001b[32m━━━━━━━━━━━━━━━━━━━━\u001b[0m\u001b[37m\u001b[0m \u001b[1m0s\u001b[0m 19ms/step - accuracy: 0.8720 - loss: 0.3489 - val_accuracy: 0.4839 - val_loss: 1.5774\n",
      "Epoch 40/50\n",
      "\u001b[1m9/9\u001b[0m \u001b[32m━━━━━━━━━━━━━━━━━━━━\u001b[0m\u001b[37m\u001b[0m \u001b[1m0s\u001b[0m 21ms/step - accuracy: 0.9108 - loss: 0.2775 - val_accuracy: 0.4839 - val_loss: 1.6112\n",
      "Epoch 41/50\n",
      "\u001b[1m9/9\u001b[0m \u001b[32m━━━━━━━━━━━━━━━━━━━━\u001b[0m\u001b[37m\u001b[0m \u001b[1m0s\u001b[0m 25ms/step - accuracy: 0.8869 - loss: 0.3067 - val_accuracy: 0.5161 - val_loss: 1.5194\n",
      "Epoch 42/50\n",
      "\u001b[1m9/9\u001b[0m \u001b[32m━━━━━━━━━━━━━━━━━━━━\u001b[0m\u001b[37m\u001b[0m \u001b[1m0s\u001b[0m 21ms/step - accuracy: 0.9316 - loss: 0.2516 - val_accuracy: 0.5161 - val_loss: 1.6659\n",
      "Epoch 43/50\n",
      "\u001b[1m9/9\u001b[0m \u001b[32m━━━━━━━━━━━━━━━━━━━━\u001b[0m\u001b[37m\u001b[0m \u001b[1m0s\u001b[0m 20ms/step - accuracy: 0.9228 - loss: 0.2745 - val_accuracy: 0.5161 - val_loss: 1.6738\n",
      "Epoch 44/50\n",
      "\u001b[1m9/9\u001b[0m \u001b[32m━━━━━━━━━━━━━━━━━━━━\u001b[0m\u001b[37m\u001b[0m \u001b[1m0s\u001b[0m 49ms/step - accuracy: 0.9544 - loss: 0.2347 - val_accuracy: 0.4839 - val_loss: 1.6416\n",
      "Epoch 45/50\n",
      "\u001b[1m9/9\u001b[0m \u001b[32m━━━━━━━━━━━━━━━━━━━━\u001b[0m\u001b[37m\u001b[0m \u001b[1m0s\u001b[0m 27ms/step - accuracy: 0.9190 - loss: 0.2797 - val_accuracy: 0.5161 - val_loss: 1.7794\n",
      "Epoch 46/50\n",
      "\u001b[1m9/9\u001b[0m \u001b[32m━━━━━━━━━━━━━━━━━━━━\u001b[0m\u001b[37m\u001b[0m \u001b[1m0s\u001b[0m 20ms/step - accuracy: 0.9141 - loss: 0.2655 - val_accuracy: 0.4839 - val_loss: 1.6571\n",
      "Epoch 47/50\n",
      "\u001b[1m9/9\u001b[0m \u001b[32m━━━━━━━━━━━━━━━━━━━━\u001b[0m\u001b[37m\u001b[0m \u001b[1m0s\u001b[0m 21ms/step - accuracy: 0.8967 - loss: 0.2740 - val_accuracy: 0.5161 - val_loss: 1.7626\n",
      "Epoch 48/50\n",
      "\u001b[1m9/9\u001b[0m \u001b[32m━━━━━━━━━━━━━━━━━━━━\u001b[0m\u001b[37m\u001b[0m \u001b[1m0s\u001b[0m 22ms/step - accuracy: 0.9084 - loss: 0.2589 - val_accuracy: 0.4516 - val_loss: 1.6971\n",
      "Epoch 49/50\n",
      "\u001b[1m9/9\u001b[0m \u001b[32m━━━━━━━━━━━━━━━━━━━━\u001b[0m\u001b[37m\u001b[0m \u001b[1m0s\u001b[0m 31ms/step - accuracy: 0.9373 - loss: 0.2559 - val_accuracy: 0.4839 - val_loss: 1.6535\n",
      "Epoch 50/50\n",
      "\u001b[1m9/9\u001b[0m \u001b[32m━━━━━━━━━━━━━━━━━━━━\u001b[0m\u001b[37m\u001b[0m \u001b[1m0s\u001b[0m 19ms/step - accuracy: 0.8946 - loss: 0.2774 - val_accuracy: 0.4194 - val_loss: 1.8056\n"
     ]
    }
   ],
   "source": [
    "best_model = tuner.hypermodel.build(best_hp)\n",
    "best_history = best_model.fit(X_train, y_train, epochs=50, batch_size=32, validation_split=0.1, verbose=1)"
   ]
  },
  {
   "cell_type": "markdown",
   "id": "e57061b7",
   "metadata": {},
   "source": [
    "Predictions using the Best Model"
   ]
  },
  {
   "cell_type": "code",
   "execution_count": 39,
   "id": "282298a8",
   "metadata": {},
   "outputs": [
    {
     "name": "stdout",
     "output_type": "stream",
     "text": [
      "\u001b[1m3/3\u001b[0m \u001b[32m━━━━━━━━━━━━━━━━━━━━\u001b[0m\u001b[37m\u001b[0m \u001b[1m0s\u001b[0m 34ms/step\n"
     ]
    }
   ],
   "source": [
    "# Predict probabilities on the test set\n",
    "y_best_test_probs = best_model.predict(X_test)\n",
    "\n",
    "# Predicted class labels (Win, Draw, Loss)\n",
    "y_best_test_pred = np.argmax(y_best_test_probs, axis=1)\n",
    "\n",
    "# True class labels (converted back from one-hot encoding)\n",
    "y_best_test_true = np.argmax(y_test, axis=1)"
   ]
  },
  {
   "cell_type": "markdown",
   "id": "eab0ed31",
   "metadata": {},
   "source": [
    "Evaluating the Best Model"
   ]
  },
  {
   "cell_type": "code",
   "execution_count": 40,
   "id": "6dd4f620",
   "metadata": {},
   "outputs": [
    {
     "name": "stdout",
     "output_type": "stream",
     "text": [
      "Accuracy: 0.42105263157894735\n",
      "Classification Report:\n",
      "               precision    recall  f1-score   support\n",
      "\n",
      "        Draw       0.31      0.29      0.30        14\n",
      "        Loss       0.43      0.46      0.45        28\n",
      "         Win       0.45      0.44      0.45        34\n",
      "\n",
      "    accuracy                           0.42        76\n",
      "   macro avg       0.40      0.40      0.40        76\n",
      "weighted avg       0.42      0.42      0.42        76\n",
      "\n"
     ]
    }
   ],
   "source": [
    "print(\"Accuracy:\", accuracy_score(y_best_test_true, y_best_test_pred))\n",
    "print(\"Classification Report:\\n\", classification_report(y_best_test_true, y_best_test_pred, target_names=outcome_encoder.classes_))"
   ]
  },
  {
   "cell_type": "code",
   "execution_count": 51,
   "id": "ee14fc64",
   "metadata": {},
   "outputs": [
    {
     "name": "stdout",
     "output_type": "stream",
     "text": [
      "  Actual Outcome Predicted Outcome  Confidence  Win Prob  Draw Prob  \\\n",
      "0           Loss              Loss    0.878308  0.110255   0.011437   \n",
      "1           Loss               Win    0.878059  0.878059   0.040306   \n",
      "2            Win               Win    0.983912  0.983912   0.000266   \n",
      "3           Draw              Draw    0.802091  0.192656   0.802091   \n",
      "4            Win               Win    0.533841  0.533841   0.000147   \n",
      "\n",
      "   Loss Prob  home_team_id  away_team_id  Correct  \n",
      "0   0.878308             9            14     True  \n",
      "1   0.081635            19            18    False  \n",
      "2   0.015822             8             5     True  \n",
      "3   0.005254             1             3     True  \n",
      "4   0.466012            11             2     True  \n"
     ]
    }
   ],
   "source": [
    "y_best_test_pred_labels = outcome_encoder.inverse_transform(y_best_test_pred)\n",
    "y_best_test_true_labels = outcome_encoder.inverse_transform(y_best_test_true)\n",
    "# Build a dataframe to compare actual vs predicted\n",
    "best_test_results_df = pd.DataFrame({\n",
    "    'Actual Outcome': y_best_test_true_labels,\n",
    "    'Predicted Outcome': y_best_test_pred_labels,\n",
    "    'Confidence': np.max(y_best_test_probs, axis=1),\n",
    "    'Win Prob': y_best_test_probs[:, outcome_encoder.transform(['Win'])[0]],\n",
    "    'Draw Prob': y_best_test_probs[:, outcome_encoder.transform(['Draw'])[0]],\n",
    "    'Loss Prob': y_best_test_probs[:, outcome_encoder.transform(['Loss'])[0]]\n",
    "})\n",
    "\n",
    "\n",
    "best_test_results_df['home_team_id']  = X_test['home_team_id'].values\n",
    "best_test_results_df['away_team_id']  = X_test['away_team_id'].values\n",
    "\n",
    "# Add 'Correct' column (True if prediction matches actual)\n",
    "best_test_results_df['Correct'] = (best_test_results_df['Actual Outcome'] == best_test_results_df['Predicted Outcome'])\n",
    "\n",
    "best_test_results_df['home_team_id']  = X_test['home_team_id'].values\n",
    "best_test_results_df['away_team_id']  = X_test['away_team_id'].values\n",
    "\n",
    "# Show the first few predictions\n",
    "print(best_test_results_df.head())\n",
    "best_test_results_df.to_csv('best_test_results_1.csv', index=False)"
   ]
  },
  {
   "cell_type": "code",
   "execution_count": 42,
   "id": "fb2931bd",
   "metadata": {},
   "outputs": [
    {
     "data": {
      "image/png": "[encoded data removed]",
      "text/plain": [
       "<Figure size 600x500 with 2 Axes>"
      ]
     },
     "metadata": {},
     "output_type": "display_data"
    }
   ],
   "source": [
    "best_cm = confusion_matrix(y_best_test_true_labels, y_best_test_pred_labels, labels=outcome_encoder.classes_)\n",
    "\n",
    "# Plot confusion matrix\n",
    "plt.figure(figsize=(6,5))\n",
    "sns.heatmap(best_cm, annot=True, fmt='d', cmap='Blues',\n",
    "            xticklabels=outcome_encoder.classes_,\n",
    "            yticklabels=outcome_encoder.classes_)\n",
    "plt.xlabel('Predicted')\n",
    "plt.ylabel('Actual')\n",
    "plt.title('Confusion Matrix on Test Set Using Best Model')\n",
    "plt.show()"
   ]
  },
  {
   "cell_type": "code",
   "execution_count": 52,
   "id": "9978adf3",
   "metadata": {},
   "outputs": [
    {
     "data": {
      "image/png": "[encoded data removed]",
      "text/plain": [
       "<Figure size 640x480 with 1 Axes>"
      ]
     },
     "metadata": {},
     "output_type": "display_data"
    }
   ],
   "source": [
    "# Group by Actual Outcome and calculate mean accuracy\n",
    "best_outcome_accuracy = best_test_results_df.groupby('Actual Outcome')['Correct'].mean()\n",
    "\n",
    "# Plot\n",
    "best_outcome_accuracy.plot(kind='bar', color='skyblue')\n",
    "plt.ylabel('Accuracy')\n",
    "plt.title('Prediction Accuracy per Outcome on Test Set Using Best Model')\n",
    "plt.ylim(0, 1)\n",
    "plt.grid(axis='y')\n",
    "plt.show()"
   ]
  }
 ],
 "metadata": {
  "kernelspec": {
   "display_name": ".venv",
   "language": "python",
   "name": "python3"
  },
  "language_info": {
   "codemirror_mode": {
    "name": "ipython",
    "version": 3
   },
   "file_extension": ".py",
   "mimetype": "text/x-python",
   "name": "python",
   "nbconvert_exporter": "python",
   "pygments_lexer": "ipython3",
   "version": "3.9.6"
  }
 },
 "nbformat": 4,
 "nbformat_minor": 5
}
